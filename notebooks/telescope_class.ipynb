{
 "cells": [
  {
   "cell_type": "code",
   "execution_count": 1,
   "metadata": {
    "collapsed": true
   },
   "outputs": [],
   "source": [
    "%matplotlib inline\n",
    "import os\n",
    "import numpy as np\n",
    "import scipy as sp\n",
    "import scipy.optimize\n",
    "import matplotlib as mpl\n",
    "import matplotlib.pyplot as plt\n",
    "from matplotlib import gridspec\n",
    "from matplotlib import rc\n",
    "from astroML.plotting import setup_text_plots\n",
    "import pdb\n",
    "setup_text_plots(fontsize=25, usetex=True)\n",
    "\n",
    "rc('font', **{'family': 'serif', 'serif': ['Computer Modern']})\n",
    "mpl.rcParams['font.size'] = 25.0"
   ]
  },
  {
   "cell_type": "code",
   "execution_count": 27,
   "metadata": {
    "collapsed": false
   },
   "outputs": [],
   "source": [
    "class Telescope(object):\n",
    "    \n",
    "    '''\n",
    "    Parameters:\n",
    "    -----------\n",
    "    lammin : float\n",
    "        Minimum wavelength (um)\n",
    "    lammax : float \n",
    "        Maximum wavelength (um)\n",
    "    R : float \n",
    "        Spectral resolution (lambda / delta-lambda)\n",
    "    Tsys : float \n",
    "        Telescope temperature (K)\n",
    "    D : float\n",
    "        Telescope diameter (m) \n",
    "    emis : float \n",
    "        Telescope emissivity\n",
    "    IWA : float\n",
    "        Inner Working Angle (lambda/D)\n",
    "    OWA : float \n",
    "        Outer Working Angle (lambda/D)\n",
    "    Tput : float \n",
    "        Telescope throughput   \n",
    "    C : float \n",
    "        Raw Contrast\n",
    "    \n",
    "    De : float \n",
    "        Dark current (s**-1)\n",
    "    DNHpix : float\n",
    "        Horizontal pixel spread of IFS spectrum\n",
    "    Re : float \n",
    "        Read noise per pixel\n",
    "    Dtmax : float\n",
    "        Maximum exposure time (hr)\n",
    "    X : float\n",
    "        Size of photometric aperture (lambda/D)\n",
    "    q : float\n",
    "        Quantum efficiency\n",
    "    '''\n",
    "    \n",
    "    # Define a constructor\n",
    "    def __init__(self, lammin=0.3,lammax=2.0,R=70.,Tput=0.2,\\\n",
    "                 D=8.0,Tsys=274.,IWA=0.5, OWA=30000.,emis=0.9,\\\n",
    "                 C=1e-10,De=1e-4,DNHpix=3.,Re=0.1,Dtmax=1.0,X=0.7,q=0.9):\n",
    "        \n",
    "        self.lammin=lammin\n",
    "        self.lammax=lammax\n",
    "        self.resolution=R\n",
    "        self.throughput=Tput\n",
    "        self.diameter=D\n",
    "        self.temperature=Tsys\n",
    "        self.IWA=IWA\n",
    "        self.OWA=OWA\n",
    "        self.emissivity=emis\n",
    "        self.contrast=C\n",
    "        \n",
    "        self.darkcurrent=De\n",
    "        self.DNHpix=DNHpix\n",
    "        self.readnoise=Re\n",
    "        self.Dtmax=Dtmax\n",
    "        self.X=X\n",
    "        self.qe=q\n",
    "    \n",
    "    def __str__(self):\n",
    "        string = 'Coronograph: \\n------------\\n'+\\\n",
    "            '- Minimum wavelength (um) : '+\"%s\" % (self.lammin)+'\\n'+\\\n",
    "            '- Maximum wavelength (um)  : '+\"%s\" % (self.lammax)+'\\n'+\\\n",
    "            '- Spectral resolution (lambda / delta-lambda)  : '+\"%s\" % (self.resolution)+' \\n'+\\\n",
    "            '- Telescope temperature (K)  : '+\"%s\" % (self.temperature)+' \\n'+\\\n",
    "            '- Telescope diameter (m)  : '+\"%s\" % (self.diameter)+' \\n'+\\\n",
    "            '- Telescope emissivity  : '+\"%s\" % (self.emissivity)+' \\n'+\\\n",
    "            '- Inner Working Angle (lambda/D)  : '+\"%s\" % (self.IWA)+' \\n'+\\\n",
    "            '- Outer Working Angle (lambda/D)  : '+\"%s\" % (self.OWA)+' \\n'+\\\n",
    "            '- Telescope throughput  : '+\"%s\" % (self.throughput)+' \\n'+\\\n",
    "            '- Raw Contrast  : '+\"%s\" % (self.contrast)+' \\n'+\\\n",
    "            '- Dark current (s**-1)  : '+\"%s\" % (self.darkcurrent)+' \\n'+\\\n",
    "            '- Horizontal pixel spread of IFS spectrum  : '+\"%s\" % (self.DNHpix)+' \\n'+\\\n",
    "            '- Read noise per pixel  : '+\"%s\" % (self.readnoise)+' \\n'+\\\n",
    "            '- Maximum exposure time (hr)  : '+\"%s\" % (self.Dtmax)+' \\n'+\\\n",
    "            '- Size of photometric aperture (lambda/D)  : '+\"%s\" % (self.X)+' \\n'+\\\n",
    "            '- Quantum efficiency  : '+\"%s\" % (self.qe)+''\n",
    "        return string"
   ]
  },
  {
   "cell_type": "code",
   "execution_count": 31,
   "metadata": {
    "collapsed": false
   },
   "outputs": [],
   "source": [
    "import numpy as np\n",
    "\n",
    "class Planet(object):\n",
    "    '''Parameters of the planet to be observed.\n",
    "    \n",
    "    Parameters:\n",
    "    -----------\n",
    "    name : string\n",
    "        Planet name from database\n",
    "    star : string\n",
    "        Stellar type of planet host star\n",
    "    d : float\n",
    "        Distance to system (pc)\n",
    "    Nez : float\n",
    "        Number of exzodis (zodis)\n",
    "    Rp : float\n",
    "        Radius of planet (Earth Radii)\n",
    "    r : float\n",
    "        Semi-major axis (AU)\n",
    "    alpha : float\n",
    "        Phase angle (deg)\n",
    "    Phi : float\n",
    "        Lambertian phase function\n",
    "    '''\n",
    "    \n",
    "    # Define a constructor\n",
    "    def __init__(self, name='', star='', d=10.0,Nez=1.0,\\\n",
    "                 Rp=1.0, a=1.0, alpha=90., Phi=1./np.pi):\n",
    "        self.name=name\n",
    "        self.star=star\n",
    "        self.distance=d\n",
    "        self.Nez=Nez\n",
    "        self.Rp=Rp\n",
    "        self.a=a\n",
    "        self.alpha=alpha\n",
    "        self.Phi = Phi\n",
    "\n",
    "    def __str__(self):\n",
    "        string = 'Planet: \\n-------\\n'+\\\n",
    "            '- Planet name  : '+\"%s\" % (self.name)+'\\n'+\\\n",
    "            '- Stellar type of planet host star : '+\"%s\" % (self.star)+'\\n'+\\\n",
    "            '- Distance to system (pc) : '+\"%s\" % (self.distance)+'\\n'+\\\n",
    "            '- Number of exzodis (zodis) : '+\"%s\" % (self.Nez)+'\\n'+\\\n",
    "            '- Radius of planet (Earth Radii) : '+\"%s\" % (self.Rp)+'\\n'+\\\n",
    "            '- Semi-major axis (AU) : '+\"%s\" % (self.a)+'\\n'+\\\n",
    "            '- Phase angle (deg) : '+\"%s\" % (self.alpha)+'\\n'+\\\n",
    "            '- Lambertian phase function : '+\"%s\" % (self.Phi)\n",
    "        return string\n",
    "            \n",
    "    #def Phi(self):\n",
    "    #    alpha = alpha * (np.pi / 180.)  # convert to radians\n",
    "    #    return (np.sin(alpha) + (np.pi - alpha) * np.cos(alpha)) / np.pi\n"
   ]
  },
  {
   "cell_type": "code",
   "execution_count": 32,
   "metadata": {
    "collapsed": false
   },
   "outputs": [],
   "source": [
    "T = Telescope()\n",
    "P = Planet()"
   ]
  },
  {
   "cell_type": "code",
   "execution_count": 35,
   "metadata": {
    "collapsed": false
   },
   "outputs": [
    {
     "name": "stdout",
     "output_type": "stream",
     "text": [
      "Coronograph: \n",
      "------------\n",
      "- Minimum wavelength (um) : 0.3\n",
      "- Maximum wavelength (um)  : 2.0\n",
      "- Spectral resolution (lambda / delta-lambda)  : 70.0 \n",
      "- Telescope temperature (K)  : 274.0 \n",
      "- Telescope diameter (m)  : 8.0 \n",
      "- Telescope emissivity  : 0.9 \n",
      "- Inner Working Angle (lambda/D)  : 0.5 \n",
      "- Outer Working Angle (lambda/D)  : 30000.0 \n",
      "- Telescope throughput  : 0.2 \n",
      "- Raw Contrast  : 1e-10 \n",
      "- Dark current (s**-1)  : 0.0001 \n",
      "- Horizontal pixel spread of IFS spectrum  : 3.0 \n",
      "- Read noise per pixel  : 0.1 \n",
      "- Maximum exposure time (hr)  : 1.0 \n",
      "- Size of photometric aperture (lambda/D)  : 0.7 \n",
      "- Quantum efficiency  : 0.9\n"
     ]
    }
   ],
   "source": [
    "print T"
   ]
  },
  {
   "cell_type": "code",
   "execution_count": 36,
   "metadata": {
    "collapsed": false
   },
   "outputs": [
    {
     "name": "stdout",
     "output_type": "stream",
     "text": [
      "Planet: \n",
      "-------\n",
      "- Planet name  : \n",
      "- Stellar type of planet host star : \n",
      "- Distance to system (pc) : 10.0\n",
      "- Number of exzodis (zodis) : 1.0\n",
      "- Radius of planet (Earth Radii) : 1.0\n",
      "- Semi-major axis (AU) : 1.0\n",
      "- Phase angle (deg) : 90.0\n",
      "- Lambertian phase function : 0.318309886184\n"
     ]
    }
   ],
   "source": [
    "print P"
   ]
  },
  {
   "cell_type": "code",
   "execution_count": null,
   "metadata": {
    "collapsed": true
   },
   "outputs": [],
   "source": []
  }
 ],
 "metadata": {
  "kernelspec": {
   "display_name": "Python 2",
   "language": "python",
   "name": "python2"
  },
  "language_info": {
   "codemirror_mode": {
    "name": "ipython",
    "version": 2
   },
   "file_extension": ".py",
   "mimetype": "text/x-python",
   "name": "python",
   "nbconvert_exporter": "python",
   "pygments_lexer": "ipython2",
   "version": "2.7.11"
  }
 },
 "nbformat": 4,
 "nbformat_minor": 0
}
