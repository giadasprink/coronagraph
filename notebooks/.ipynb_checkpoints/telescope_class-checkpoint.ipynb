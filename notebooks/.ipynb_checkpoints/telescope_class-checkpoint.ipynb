{
 "cells": [
  {
   "cell_type": "code",
   "execution_count": 1,
   "metadata": {
    "collapsed": true
   },
   "outputs": [],
   "source": [
    "%matplotlib inline\n",
    "import os\n",
    "import numpy as np\n",
    "import scipy as sp\n",
    "import scipy.optimize\n",
    "import matplotlib as mpl\n",
    "import matplotlib.pyplot as plt\n",
    "from matplotlib import gridspec\n",
    "from matplotlib import rc\n",
    "from astroML.plotting import setup_text_plots\n",
    "import pdb\n",
    "setup_text_plots(fontsize=25, usetex=True)\n",
    "\n",
    "rc('font', **{'family': 'serif', 'serif': ['Computer Modern']})\n",
    "mpl.rcParams['font.size'] = 25.0"
   ]
  },
  {
   "cell_type": "code",
   "execution_count": 18,
   "metadata": {
    "collapsed": true
   },
   "outputs": [],
   "source": [
    "class Telescope(object):\n",
    "    \n",
    "    '''\n",
    "    Parameters:\n",
    "    -----------\n",
    "    lammin : float\n",
    "        Minimum wavelength (um)\n",
    "    lammax : float \n",
    "        Maximum wavelength (um)\n",
    "    R : float \n",
    "        Spectral resolution (lambda / delta-lambda)\n",
    "    Tsys : float \n",
    "        Telescope temperature (K)\n",
    "    D : float\n",
    "        Telescope diameter (m) \n",
    "    emis : float \n",
    "        Telescope emissivity\n",
    "    IWA : float\n",
    "        Inner Working Angle (lambda/D)\n",
    "    OWA : float \n",
    "        Outer Working Angle (lambda/D)\n",
    "    Tput : float \n",
    "        Telescope throughput   \n",
    "    C : float \n",
    "        Raw Contrast\n",
    "    \n",
    "    De : float \n",
    "        Dark current (s**-1)\n",
    "    DNHpix : float\n",
    "        Horizontal pixel spread of IFS spectrum\n",
    "    Re : float \n",
    "        Read noise per pixel\n",
    "    Dtmax : float\n",
    "        Maximum exposure time (hr)\n",
    "    X : float\n",
    "        Size of photometric aperture (lambda/D)\n",
    "    q : float\n",
    "        Quantum efficiency\n",
    "    '''\n",
    "    \n",
    "    # Define a constructor\n",
    "    def __init__(self, lammin=0.3,lammax=2.0,R=70.,Tput=0.2,\\\n",
    "                 D=8.0,Tsys=274.,IWA=0.5, OWA=30000.,emis=0.9,\\\n",
    "                 C=1e-10,De=1e-4,DNHpix=3.,Re=0.1,Dtmax=1.0,X=0.7,q=0.9):\n",
    "        \n",
    "        self.lammin=lammin\n",
    "        self.lammax=lammax\n",
    "        self.resolution=R\n",
    "        self.throughput=Tput\n",
    "        self.diameter=D\n",
    "        self.temperature=Tsys\n",
    "        self.IWA=IWA\n",
    "        self.OWA=OWA\n",
    "        self.emissivity=emis\n",
    "        self.contrast=C\n",
    "        \n",
    "        self.darkcurrent=De\n",
    "        self.DNHpix=DNHpix\n",
    "        self.readnoise=Re\n",
    "        self.Dtmax=Dtmax\n",
    "        self.X=X\n",
    "        self.qe=q"
   ]
  },
  {
   "cell_type": "code",
   "execution_count": 114,
   "metadata": {
    "collapsed": false
   },
   "outputs": [],
   "source": [
    "import numpy as np\n",
    "\n",
    "class Planet(object):\n",
    "    '''Parameters of the planet to be observed.\n",
    "    \n",
    "    Parameters:\n",
    "    -----------\n",
    "    name : string\n",
    "        Planet name from database\n",
    "    star : string\n",
    "        Stellar type of planet host star\n",
    "    d : float\n",
    "        Distance to system (pc)\n",
    "    Nez : float\n",
    "        Number of exzodis (zodis)\n",
    "    Rp : float\n",
    "        Radius of planet (Earth Radii)\n",
    "    r : float\n",
    "        Semi-major axis (AU)\n",
    "    alpha : float\n",
    "        Phase angle (deg)\n",
    "    '''\n",
    "    \n",
    "    # Define a constructor\n",
    "    def __init__(self, name='', star='', d=10.0,Nez=1.0,\\\n",
    "                 Rp=1.0, a=1.0, alpha=90., Phi=1./np.pi):\n",
    "        self.name=name\n",
    "        self.star=star\n",
    "        self.distance=d\n",
    "        self.Nez=Nez\n",
    "        self.Rp=Rp\n",
    "        self.a=a\n",
    "        self.alpha=alpha\n",
    "        self.Phi = Phi\n",
    "\n",
    "    #def Phi(self):\n",
    "    #    alpha = alpha * (np.pi / 180.)  # convert to radians\n",
    "    #    return (np.sin(alpha) + (np.pi - alpha) * np.cos(alpha)) / np.pi\n"
   ]
  },
  {
   "cell_type": "code",
   "execution_count": 113,
   "metadata": {
    "collapsed": false
   },
   "outputs": [],
   "source": [
    "T = Telescope(lammax=3.0)\n",
    "P = Planet()"
   ]
  },
  {
   "cell_type": "code",
   "execution_count": 112,
   "metadata": {
    "collapsed": false
   },
   "outputs": [],
   "source": []
  },
  {
   "cell_type": "code",
   "execution_count": null,
   "metadata": {
    "collapsed": true
   },
   "outputs": [],
   "source": [
    "call_atlast_noise(planet=planet, startype=star,lammin=lambda_min,\\\n",
    "                  lammax=lambda_max, Res=resolution, Tput=throughput,\\\n",
    "                  diam=diameter, Tsys=temperature,IWA=IWA, OWA=OWA, \\\n",
    "                  d=distance, Nez=exozodis, emis=emissivity, C=contrast,\\\n",
    "                  alpha=phase, Phi=phi)"
   ]
  }
 ],
 "metadata": {
  "kernelspec": {
   "display_name": "Python 2",
   "language": "python",
   "name": "python2"
  },
  "language_info": {
   "codemirror_mode": {
    "name": "ipython",
    "version": 2
   },
   "file_extension": ".py",
   "mimetype": "text/x-python",
   "name": "python",
   "nbconvert_exporter": "python",
   "pygments_lexer": "ipython2",
   "version": "2.7.11"
  }
 },
 "nbformat": 4,
 "nbformat_minor": 0
}
