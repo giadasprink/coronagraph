{
 "cells": [
  {
   "cell_type": "code",
   "execution_count": 2,
   "metadata": {
    "collapsed": true
   },
   "outputs": [],
   "source": [
    "%matplotlib inline\n",
    "import numpy as np\n",
    "import scipy as sp\n",
    "import scipy.optimize\n",
    "import matplotlib as mpl\n",
    "import matplotlib.pyplot as plt\n",
    "from matplotlib import gridspec\n",
    "from matplotlib import rc\n",
    "from astroML.plotting import setup_text_plots\n",
    "setup_text_plots(fontsize=18, usetex=True)\n",
    "\n",
    "rc('font', **{'family': 'serif', 'serif': ['Computer Modern']})\n",
    "mpl.rcParams['font.size'] = 20.0\n",
    "\n",
    "import subprocess"
   ]
  },
  {
   "cell_type": "code",
   "execution_count": 3,
   "metadata": {
    "collapsed": true
   },
   "outputs": [],
   "source": [
    "from read_smart import read_rad\n",
    "from call_atlast_noise import call_atlast_noise"
   ]
  },
  {
   "cell_type": "code",
   "execution_count": 4,
   "metadata": {
    "collapsed": true
   },
   "outputs": [],
   "source": [
    "def calc_SNR(itime, cp, cb, poisson=2.):\n",
    "    cnoise = cp + poisson*cb\n",
    "    SNR = cp*itime / np.sqrt(cnoise*itime)\n",
    "    return SNR\n",
    "\n",
    "def observe_system(spectrum, SNR, apparent=False):\n",
    "    if apparent:\n",
    "        # Scale geometric albedo to apparent albedo (as if lambertian sphere)\n",
    "        scale = 3.*np.pi/2.\n",
    "    else:\n",
    "        scale = 1.0    \n",
    "    sigma = scale * spectrum / SNR\n",
    "    spec_noise = np.random.randn(len(spectrum))*sigma + scale*spectrum\n",
    "    return spec_noise, sigma"
   ]
  },
  {
   "cell_type": "code",
   "execution_count": null,
   "metadata": {
    "collapsed": true
   },
   "outputs": [],
   "source": [
    "smart_tag = \n",
    "rwl, rwno, rsolar_spec, rTOA_flux, rad_streams = read_rad(smart_tag+rad_tag)"
   ]
  }
 ],
 "metadata": {
  "kernelspec": {
   "display_name": "Python 2",
   "language": "python",
   "name": "python2"
  },
  "language_info": {
   "codemirror_mode": {
    "name": "ipython",
    "version": 2
   },
   "file_extension": ".py",
   "mimetype": "text/x-python",
   "name": "python",
   "nbconvert_exporter": "python",
   "pygments_lexer": "ipython2",
   "version": "2.7.10"
  }
 },
 "nbformat": 4,
 "nbformat_minor": 0
}
